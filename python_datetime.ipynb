{
 "cells": [
  {
   "cell_type": "markdown",
   "metadata": {},
   "source": [
    "Date and Time concepts\n",
    "-----------------------------------\n",
    "\n",
    "### ISO 8601 \n",
    "\n",
    "The International Standard for the representation of dates and times.  \n",
    "\n",
    "https://www.cl.cam.ac.uk/~mgk25/iso-time.html\n",
    "\n",
    "### Coordinated Universal Time(UTC)\n",
    "\n",
    "It is the primary time standard by which the world regulates clocks and time\n",
    "\n",
    "https://stjarnhimlen.se/comp/time.html\n",
    "\n",
    "### UNIX or EPOCH Time\n",
    "\n",
    "January 1, 1970, 00:00:00 UTC. Time stamps are supplied as seconds and microseconds since that, not counting leap seconds.\n",
    "\n",
    "### Other commonly used notations\n",
    "\n",
    "2/4/19, 4/2/19, 19/2/4, 4.2.2019, 04-FEB-2019, 4-February-2019 "
   ]
  },
  {
   "cell_type": "code",
   "execution_count": 28,
   "metadata": {},
   "outputs": [],
   "source": [
    "import datetime\n",
    "import time"
   ]
  },
  {
   "cell_type": "markdown",
   "metadata": {},
   "source": [
    "## Python Standard Library Date and Time modules\n",
    "\n",
    "### datetime module and the classes within the module\n",
    "\n",
    "1. date - only year, month and day\n",
    "2. time - only time, measured in hours, minutes, seconds and microseconds. every day has exactly 24*60*60 seconds \n",
    "3. datetime - Combination of date and time\n",
    "4. timedelta - A duration expressing the difference between two date, time, or datetime instances to microsecond resolution.\n",
    "5. tzinfo (Abstract Base Class, pytz (before python 3.6) and dateutil.tz (after python 3.6) implement this.\n",
    "\n",
    "**There are two kinds of date and time objects: “naive” and “aware\"(usually know timezones and DST) **\n",
    "\n",
    "### time module \n",
    "\n",
    "This module provides various time-related functions."
   ]
  },
  {
   "cell_type": "markdown",
   "metadata": {},
   "source": [
    "#### dateime.date - An naive date, assuming the current Gregorian calendar. Attributes: year, month, and day."
   ]
  },
  {
   "cell_type": "code",
   "execution_count": 29,
   "metadata": {},
   "outputs": [
    {
     "name": "stdout",
     "output_type": "stream",
     "text": [
      "2019-10-22\n",
      "<class 'datetime.date'>\n"
     ]
    }
   ],
   "source": [
    "today_date = datetime.date.today()\n",
    "print(today_date)\n",
    "print(type(today_date))"
   ]
  },
  {
   "cell_type": "code",
   "execution_count": 30,
   "metadata": {},
   "outputs": [
    {
     "name": "stdout",
     "output_type": "stream",
     "text": [
      "2019-10-10\n"
     ]
    }
   ],
   "source": [
    "# specifying a date in string to create a datetime object\n",
    "someday = datetime.date(year=2019, month=10, day=10)\n",
    "print(someday)"
   ]
  },
  {
   "cell_type": "markdown",
   "metadata": {},
   "source": [
    "#### datetime.time"
   ]
  },
  {
   "cell_type": "code",
   "execution_count": 31,
   "metadata": {},
   "outputs": [
    {
     "name": "stdout",
     "output_type": "stream",
     "text": [
      "04:03:10.007199\n"
     ]
    }
   ],
   "source": [
    "now = datetime.time(hour=4, minute=3, second=10, microsecond=7199)\n",
    "print(now)"
   ]
  },
  {
   "cell_type": "markdown",
   "metadata": {},
   "source": [
    "#### datetime.datetime"
   ]
  },
  {
   "cell_type": "code",
   "execution_count": 32,
   "metadata": {},
   "outputs": [
    {
     "name": "stdout",
     "output_type": "stream",
     "text": [
      "2019-10-22 11:43:27.326406\n",
      "<class 'datetime.datetime'>\n"
     ]
    }
   ],
   "source": [
    "dt = datetime.datetime.now()\n",
    "print(dt)\n",
    "print(type(dt))"
   ]
  },
  {
   "cell_type": "code",
   "execution_count": 33,
   "metadata": {},
   "outputs": [
    {
     "name": "stdout",
     "output_type": "stream",
     "text": [
      "None\n"
     ]
    }
   ],
   "source": [
    "print(dt.tzinfo)"
   ]
  },
  {
   "cell_type": "code",
   "execution_count": 34,
   "metadata": {},
   "outputs": [
    {
     "data": {
      "text/plain": [
       "(2019, 10, 22, 11, 43, 27, 326406)"
      ]
     },
     "execution_count": 34,
     "metadata": {},
     "output_type": "execute_result"
    }
   ],
   "source": [
    "dt.year, dt.month, dt.day, dt.hour, dt.minute, dt.second, dt.microsecond"
   ]
  },
  {
   "cell_type": "markdown",
   "metadata": {},
   "source": [
    "### Formatting the datetime object \n",
    "\n",
    "All supported format codes are here:\n",
    "\n",
    "https://docs.python.org/3/library/datetime.html#strftime-and-strptime-format-codes"
   ]
  },
  {
   "cell_type": "code",
   "execution_count": 35,
   "metadata": {},
   "outputs": [
    {
     "name": "stdout",
     "output_type": "stream",
     "text": [
      "October 22, 2019\n",
      "2019/10/22\n",
      "2019-10-22 11:43:27\n"
     ]
    }
   ],
   "source": [
    "#Converting datetime to strings\n",
    "print(today_date.strftime(\"%B %d, %Y\"))\n",
    "\n",
    "print(today_date.strftime(\"%Y/%m/%d\"))\n",
    "\n",
    "print(dt.strftime(\"%Y-%m-%d %H:%M:%S\"))"
   ]
  },
  {
   "cell_type": "code",
   "execution_count": 36,
   "metadata": {},
   "outputs": [
    {
     "data": {
      "text/plain": [
       "datetime.datetime(2015, 12, 31, 11, 32)"
      ]
     },
     "execution_count": 36,
     "metadata": {},
     "output_type": "execute_result"
    }
   ],
   "source": [
    "# Converting strings to datetime. Have to specify how the string is formatted\n",
    "dt1 = datetime.datetime.strptime(\"2015-12-31 11:32\", \"%Y-%m-%d %H:%M\")\n",
    "dt1"
   ]
  },
  {
   "cell_type": "markdown",
   "metadata": {},
   "source": [
    "### timedelta \n",
    "\n",
    "Used to add or subtract days, weeks, hours, minutes, seconds, microseconds and milliseconds. \n",
    "\n",
    "https://docs.python.org/3/library/datetime.html#timedelta-objects"
   ]
  },
  {
   "cell_type": "code",
   "execution_count": 37,
   "metadata": {},
   "outputs": [
    {
     "name": "stdout",
     "output_type": "stream",
     "text": [
      "3 weeks and 2 days before and after the Oct 1st would be 2019-09-08 04:03:10 and 2019-10-24 04:03:10\n"
     ]
    }
   ],
   "source": [
    "# Calculating the date difference- 3 weeks and 2 days before oct 1, 2019 and 3 weeks and 2 days after Oct 1, 2019\n",
    "\n",
    "oct_date = datetime.datetime(year=2019, month=10, day=1, hour=4, minute=3, second=10)\n",
    "three_weeks = datetime.timedelta(weeks=3, days=2) #This is the timedelta object\n",
    "\n",
    "oct_before = (oct_date - three_weeks)\n",
    "oct_after = (oct_date + three_weeks)\n",
    "print(\"3 weeks and 2 days before and after the Oct 1st would be {} and {}\".format(oct_before,oct_after))"
   ]
  },
  {
   "cell_type": "markdown",
   "metadata": {},
   "source": [
    "### time module\n",
    "\n",
    "#### The time module is for working with unix time stamps"
   ]
  },
  {
   "cell_type": "code",
   "execution_count": 38,
   "metadata": {},
   "outputs": [],
   "source": [
    "t = time.time()\n",
    "\n",
    "#a floating point number representing the time in seconds since the epoch.\n",
    "#add or substract 86400 seconds for every day; t += 86400 "
   ]
  },
  {
   "cell_type": "code",
   "execution_count": 39,
   "metadata": {},
   "outputs": [
    {
     "name": "stdout",
     "output_type": "stream",
     "text": [
      "2019-10-22 15:43 Eastern Standard Time\n"
     ]
    }
   ],
   "source": [
    "time.gmtime()\n",
    "print(time.strftime('%Y-%m-%d %H:%M %Z', time.gmtime(t)))"
   ]
  },
  {
   "cell_type": "code",
   "execution_count": 40,
   "metadata": {},
   "outputs": [
    {
     "data": {
      "text/plain": [
       "'2019-10-22 11:43 Eastern Daylight Time'"
      ]
     },
     "execution_count": 40,
     "metadata": {},
     "output_type": "execute_result"
    }
   ],
   "source": [
    "time.strftime('%Y-%m-%d %H:%M %Z',time.localtime(t))"
   ]
  },
  {
   "cell_type": "markdown",
   "metadata": {},
   "source": [
    "### Converting between time formats"
   ]
  },
  {
   "cell_type": "code",
   "execution_count": 41,
   "metadata": {},
   "outputs": [
    {
     "name": "stdout",
     "output_type": "stream",
     "text": [
      "2019-10-22 15:43:27.470023\n"
     ]
    }
   ],
   "source": [
    "#Convert local datetime to UTC\n",
    "\n",
    "print(datetime.datetime.utcnow())"
   ]
  },
  {
   "cell_type": "code",
   "execution_count": 42,
   "metadata": {},
   "outputs": [
    {
     "name": "stdout",
     "output_type": "stream",
     "text": [
      "2019-10-22T11:43:27.326406\n"
     ]
    }
   ],
   "source": [
    "#Convert local datetime object to ISO 8601 format\n",
    "\n",
    "print(dt.isoformat())"
   ]
  },
  {
   "cell_type": "code",
   "execution_count": 43,
   "metadata": {},
   "outputs": [
    {
     "name": "stdout",
     "output_type": "stream",
     "text": [
      "2019-10-22 11:43:27.416167\n",
      "2019-10-22 15:43:27.416167\n"
     ]
    }
   ],
   "source": [
    "#convert from Unix timestamp to local time\n",
    "\n",
    "print(datetime.datetime.fromtimestamp(t))\n",
    "\n",
    "print(datetime.datetime.utcfromtimestamp(t))"
   ]
  },
  {
   "cell_type": "markdown",
   "metadata": {},
   "source": [
    "## Working with Timezones\n",
    "\n",
    "https://dateutil.readthedocs.io/en/stable/\n",
    "\n",
    "**dateutil.tz library brings the IANA timezone database (also known as the Olson database)** "
   ]
  },
  {
   "cell_type": "code",
   "execution_count": 44,
   "metadata": {},
   "outputs": [],
   "source": [
    "from dateutil import tz"
   ]
  },
  {
   "cell_type": "code",
   "execution_count": 45,
   "metadata": {},
   "outputs": [],
   "source": [
    "NYC = tz.gettz('America/New_York')"
   ]
  },
  {
   "cell_type": "code",
   "execution_count": 46,
   "metadata": {},
   "outputs": [
    {
     "name": "stdout",
     "output_type": "stream",
     "text": [
      "2019-10-22 15:43:27.569755+00:00\n"
     ]
    }
   ],
   "source": [
    "print(datetime.datetime.now(tz.tzutc()))"
   ]
  },
  {
   "cell_type": "code",
   "execution_count": 47,
   "metadata": {},
   "outputs": [
    {
     "name": "stdout",
     "output_type": "stream",
     "text": [
      "2019-10-22 11:43:27.585712-04:00\n"
     ]
    }
   ],
   "source": [
    "print(datetime.datetime.now(NYC))"
   ]
  }
 ],
 "metadata": {
  "kernelspec": {
   "display_name": "Python 3",
   "language": "python",
   "name": "python3"
  },
  "language_info": {
   "codemirror_mode": {
    "name": "ipython",
    "version": 3
   },
   "file_extension": ".py",
   "mimetype": "text/x-python",
   "name": "python",
   "nbconvert_exporter": "python",
   "pygments_lexer": "ipython3",
   "version": "3.6.9"
  }
 },
 "nbformat": 4,
 "nbformat_minor": 1
}
